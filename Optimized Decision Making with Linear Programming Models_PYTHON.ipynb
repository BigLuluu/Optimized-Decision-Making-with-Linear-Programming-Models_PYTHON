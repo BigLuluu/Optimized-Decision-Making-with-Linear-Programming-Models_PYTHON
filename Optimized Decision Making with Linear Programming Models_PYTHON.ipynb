{
 "cells": [
  {
   "cell_type": "markdown",
   "metadata": {},
   "source": [
    "# Optimization with Linear Programming"
   ]
  },
  {
   "cell_type": "markdown",
   "metadata": {},
   "source": [
    "## Case Study 1: Inventory and Transportation Problem\n",
    "## Case Study 2: Portfolio Investment Problem\n",
    "> ### Author: Lu (Christina) Jin"
   ]
  },
  {
   "cell_type": "markdown",
   "metadata": {},
   "source": [
    "# Setup: Import all libraries"
   ]
  },
  {
   "cell_type": "code",
   "execution_count": 14,
   "metadata": {},
   "outputs": [
    {
     "name": "stdout",
     "output_type": "stream",
     "text": [
      "Collecting pulp\n",
      "  Downloading PuLP-2.4-py3-none-any.whl (40.6 MB)\n",
      "Collecting amply>=0.1.2\n",
      "  Downloading amply-0.1.4-py3-none-any.whl (16 kB)\n",
      "Requirement already satisfied: docutils>=0.3 in c:\\users\\lu_ki\\anaconda3\\lib\\site-packages (from amply>=0.1.2->pulp) (0.16)\n",
      "Requirement already satisfied: pyparsing in c:\\users\\lu_ki\\anaconda3\\lib\\site-packages (from amply>=0.1.2->pulp) (2.4.7)\n",
      "Installing collected packages: amply, pulp\n",
      "Successfully installed amply-0.1.4 pulp-2.4\n"
     ]
    }
   ],
   "source": [
    "# Install a pip package in the current Jupyter kernel\n",
    "import sys\n",
    "!{sys.executable} -m pip install pulp"
   ]
  },
  {
   "cell_type": "code",
   "execution_count": 24,
   "metadata": {},
   "outputs": [],
   "source": [
    "import os\n",
    "import io\n",
    "import numpy as np\n",
    "import pandas as pd\n",
    "import seaborn as sns\n",
    "import matplotlib.pyplot as plt\n",
    "import matplotlib.ticker as ticker\n",
    "import scipy as scipy\n",
    "import re\n",
    "import sklearn as sk\n",
    "import warnings\n",
    "\n",
    "import datetime as dt\n",
    "from sklearn import datasets\n",
    "from sklearn import linear_model\n",
    "from sklearn.model_selection import train_test_split\n",
    "from datetime import date\n",
    "from datetime import datetime\n",
    "from patsy import dmatrices\n",
    "from sklearn.model_selection import train_test_split\n",
    "from sklearn.linear_model import LinearRegression\n",
    "from sklearn.metrics import mean_squared_error, r2_score\n",
    "\n",
    "\n",
    "import statsmodels.api as sm\n",
    "from statsmodels.compat import lzip\n",
    "import statsmodels.stats.api as sms\n",
    "from statsmodels.stats.diagnostic import het_white\n",
    "from statsmodels.stats.outliers_influence import variance_inflation_factor\n",
    "from matplotlib.ticker import PercentFormatter\n",
    "from scipy import stats\n",
    "from scipy.stats import bartlett\n",
    "from scipy.optimize import linprog\n",
    "from pulp import LpMaximize, LpProblem, LpStatus, lpSum, LpVariable\n",
    "from pulp import GLPK\n",
    "from pulp import *"
   ]
  },
  {
   "cell_type": "markdown",
   "metadata": {},
   "source": [
    "# 1. Transportation Problem"
   ]
  },
  {
   "cell_type": "markdown",
   "metadata": {},
   "source": [
    "### Brief overview of the problem: \n",
    "\n",
    "It is a dataset with cost, capacity and demand information of each of the two types of plants (Marietta and Minneapolis) at each of the 4 distribution center (Cleveland, Baltimore, Chicago, and Phoenix). The objective is to minimize the cost. "
   ]
  },
  {
   "cell_type": "markdown",
   "metadata": {},
   "source": [
    "### Define the model:\n",
    "\n",
    "**Objective (to minimize cost):**\n",
    "> 12.60X1 + 14.35X2 + 11.52X3 + 17.58X4 + 9.75Y1 + 16.26Y2 + 8.11Y3 + 17.92Y4\n",
    "\n",
    "**Supply Constraints:**\n",
    "> X1 + X2 + X3 + X4 ≤ 1200\n",
    ">\n",
    "> Y1 + Y2 + Y3 + Y4 ≤ 800\n",
    "\n",
    "**Demand Constraints:**\n",
    "> X1 + Y1 = 150\n",
    ">\n",
    "> X2 + Y2 = 350\n",
    "> \n",
    "> X3 + Y3 = 500\n",
    "> \n",
    "> X4 + Y4 = 1000\n",
    "\n",
    "**Positive Units Constraint:**\n",
    "> X1, X2, X3, X4, Y1, Y2, Y3, Y4 ≥ 0\n"
   ]
  },
  {
   "cell_type": "code",
   "execution_count": 33,
   "metadata": {},
   "outputs": [
    {
     "name": "stdout",
     "output_type": "stream",
     "text": [
      "status: 1, Optimal\n",
      "objective: 28171.0\n",
      "x1: 0.0\n",
      "x2: 350.0\n",
      "x3: 0.0\n",
      "x4: 850.0\n",
      "y1: 150.0\n",
      "y2: 0.0\n",
      "y3: 500.0\n",
      "y4: 150.0\n",
      "Plant_Marietta: 0.0\n",
      "Plant_Minneapolis: 0.0\n",
      "Celeland_Distribution_Center: 0.0\n",
      "Baltimore_Distribution_Center: 0.0\n",
      "Chicago_Distribution_Center: 0.0\n",
      "Phoenix_Distribution_Center: 0.0\n"
     ]
    }
   ],
   "source": [
    "# Define the model\n",
    "model = LpProblem(name=\"Transportation Problem\", sense=LpMinimize)\n",
    "\n",
    "# Define the decision variables\n",
    "x = {i: LpVariable(name=f\"x{i}\", lowBound=0) for i in range(1, 5)}\n",
    "y = {j: LpVariable(name=f\"y{j}\", lowBound=0) for j in range(1, 5)}\n",
    "\n",
    "# Add constraints\n",
    "model += (lpSum(x.values()) <= 1200, \"Plant_Marietta\")\n",
    "model += (lpSum(y.values()) <= 800, \"Plant_Minneapolis\")\n",
    "model += (x[1] + y[1] == 150, \"Celeland_Distribution_Center\")\n",
    "model += (x[2] + y[2] == 350, \"Baltimore_Distribution_Center\")\n",
    "model += (x[3] + y[3] == 500, \"Chicago_Distribution_Center\")\n",
    "model += (x[4] + y[4] == 1000, \"Phoenix_Distribution_Center\")\n",
    "\n",
    "\n",
    "# Set the objective\n",
    "model += 12.6 * x[1] + 14.35 * x[2] + 11.52 * x[3] + 17.58 * x[4] + 9.75 * y[1] + 16.26 * y[2] +  8.11 * y[3] + 17.92 * y[4]\n",
    "\n",
    "# Solve the optimization problem\n",
    "status = model.solve()\n",
    "\n",
    "# Get the results\n",
    "print(f\"status: {model.status}, {LpStatus[model.status]}\")\n",
    "print(f\"objective: {model.objective.value()}\")\n",
    "\n",
    "for var in x.values():\n",
    "    print(f\"{var.name}: {var.value()}\")\n",
    "    \n",
    "for var in y.values():\n",
    "    print(f\"{var.name}: {var.value()}\")\n",
    "\n",
    "for name, constraint in model.constraints.items():\n",
    "    print(f\"{name}: {constraint.value()}\")"
   ]
  },
  {
   "cell_type": "markdown",
   "metadata": {},
   "source": [
    "### Solution:\n",
    "\n",
    "> According to the result of our linear optimization model, minimized cost is going to be **$28171**, and the allocation of both plants are:\n",
    ">\n",
    "> **Plant Marietta:**\n",
    "> * 350 units to be distributed at the Baltimore center\n",
    ">\n",
    "> * 850 units to be distributed at the Phoenix center\n",
    ">\n",
    "> **Plant Minneapolis:**\n",
    "> * 150 units to be distributed at the Cleveland center\n",
    "> \n",
    "> * 500 units to be distributed at the Chicago center\n",
    ">\n",
    "> * 150 units to be distributed at the Phoenix center\n",
    ">\n",
    "> 0 values in all slack variables meaning there would be no waste of any sort of resources."
   ]
  },
  {
   "cell_type": "markdown",
   "metadata": {},
   "source": [
    "# 2. Portfolio Investment Problem"
   ]
  },
  {
   "cell_type": "markdown",
   "metadata": {},
   "source": [
    "### Brief overview of the problem: \n",
    "\n",
    "It is a dataset with expected annual return and risk measures of each of the 6 funds available. Our goal is to minimize the risk of investing $500,000 in these funds. While at the same time, to gain at least a 5% of average return, while meeting all the constrains on the portfolio allocation."
   ]
  },
  {
   "cell_type": "markdown",
   "metadata": {},
   "source": [
    "### Define the model:\n",
    "\n",
    "**Objective (to minimize risk):**\n",
    "> (10.57X1 + 13.22X2 + 14.02X3 + 2.39X4 + 9.30X5 + 7.61X6) / 500000\n",
    "\n",
    "**Portfolio Allocation Constraints:**\n",
    "> X1 + X2 + X3 + X4 + X5 + X6 = 500,000\n",
    ">\n",
    "> X2 ≥ 50,000\n",
    ">\n",
    "> X6 ≥ 50,000\n",
    ">\n",
    "> X5 + X6 ≥ 0.4 * 500,000\n",
    "\n",
    "**Average Return Constraint:**\n",
    "> (8.13X1 + 9.02X2 + 7.56X3 + 3.62X4 + 7.79X5 + 4.40X6)/500,000 ≥ 5.00\n",
    "\n",
    "**Low and High Bound Constraints:**\n",
    "> X1, X2, X3, X4, X5, X6 ≥ 0\n",
    ">\n",
    "> X1, X2, X3, X4, X5, X6 ≤ 200,000\n"
   ]
  },
  {
   "cell_type": "code",
   "execution_count": 51,
   "metadata": {},
   "outputs": [
    {
     "name": "stdout",
     "output_type": "stream",
     "text": [
      "status: 1, Optimal\n",
      "objective: 5.7451519168\n",
      "x1: 0.0\n",
      "x2: 50000.0\n",
      "x3: 0.0\n",
      "x4: 182458.56\n",
      "x5: 150000.0\n",
      "x6: 50000.0\n",
      "Total_Investment: -67541.44\n",
      "Multinational_Fund: 0.0\n",
      "Balanced_Fund: 0.0\n",
      "Income_Equity_&_Balanced_Funds: 0.0\n",
      "Average_Return: -0.012800000113202259\n"
     ]
    }
   ],
   "source": [
    "# Define the model\n",
    "model = LpProblem(name=\"Profolio Investment Problem\", sense=LpMinimize)\n",
    "\n",
    "# Define the decision variables\n",
    "x = {i: LpVariable(name=f\"x{i}\", lowBound=0, upBound=200000) for i in range(1, 7)}\n",
    "\n",
    "# Add constraints\n",
    "model += (lpSum(x.values()) <= 500000, \"Total_Investment\")\n",
    "model += (x[2] >= 50000, \"Multinational_Fund\")\n",
    "model += (x[6] >= 50000, \"Balanced_Fund\")\n",
    "model += (x[5] + x[6] >= 0.4*500000, \"Income_Equity_&_Balanced_Funds\")\n",
    "model += (8.13 * x[1] + 9.02 * x[2] + 7.56 * x[3] + 3.62 * x[4] + 7.79 * x[5] + 4.40 * x[6] >= 5 * 500000, \"Average Return\")\n",
    "\n",
    "\n",
    "# Set the objective\n",
    "model += (10.57 * x[1] + 13.22 * x[2] + 14.02 * x[3] + 2.39 * x[4] + 9.30 * x[5] + 7.61 * x[6]) / 500000\n",
    "\n",
    "# Solve the optimization problem\n",
    "status = model.solve()\n",
    "\n",
    "# Get the results\n",
    "print(f\"status: {model.status}, {LpStatus[model.status]}\")\n",
    "print(f\"objective: {model.objective.value()}\")\n",
    "\n",
    "for var in x.values():\n",
    "    print(f\"{var.name}: {var.value()}\")\n",
    "\n",
    "for name, constraint in model.constraints.items():\n",
    "    print(f\"{name}: {constraint.value()}\")"
   ]
  },
  {
   "cell_type": "markdown",
   "metadata": {},
   "source": [
    "### Solution:\n",
    "\n",
    "> According to the result of our portfolio optimization model, the risk is going to be at **5.745** the lowest, and the average return will be 5.013% which would be beating the required percentage of return by 0.013%. \n",
    ">\n",
    "> **The portfolio allocations are as follows:**\n",
    "> * invest 50,000 dollars in Innis Multinational Fund\n",
    ">\n",
    "> * invest 182,458.56 dollars in Innis Mortgage Fund\n",
    ">\n",
    "> * invest 150,000 dollars in Innis Income Equity Fund\n",
    "> \n",
    "> * invest 50,000 dollars in Innis Balance Fund\n",
    ">\n",
    "> **Other Things to Note:**\n",
    "> * This plan of portfolio requires no money being invested for Innis Low-Priced Stock Fund or the Innis Mid-Cap Stock Fund (this is probably because these two funds are with pretty high risk measures.\n",
    ">\n",
    "> * There will be $67,541.44 left in the account without being invest in anything (this is probably because we are trying to minimize the risk)"
   ]
  }
 ],
 "metadata": {
  "kernelspec": {
   "display_name": "Python 3",
   "language": "python",
   "name": "python3"
  },
  "language_info": {
   "codemirror_mode": {
    "name": "ipython",
    "version": 3
   },
   "file_extension": ".py",
   "mimetype": "text/x-python",
   "name": "python",
   "nbconvert_exporter": "python",
   "pygments_lexer": "ipython3",
   "version": "3.8.5"
  }
 },
 "nbformat": 4,
 "nbformat_minor": 4
}
